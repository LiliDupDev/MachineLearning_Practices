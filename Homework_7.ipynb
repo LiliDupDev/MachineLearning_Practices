{
 "cells": [
  {
   "cell_type": "code",
   "execution_count": 125,
   "metadata": {},
   "outputs": [],
   "source": [
    "import scipy.io\n",
    "import numpy as np\n",
    "import pandas as pd\n",
    "from sklearn.model_selection import train_test_split\n",
    "from sklearn.ensemble import IsolationForest\n",
    "import matplotlib.pyplot as plt\n",
    "from scipy.stats import chi2\n",
    "import sympy \n",
    "import seaborn as sns\n",
    "\n",
    "%matplotlib inline\n",
    "\n",
    "p_chi = np.array([0.05])\n",
    "df_chi = np.array(list(range(1, 30)) + list(range(30, 101, 1))).reshape(-1, 1)\n",
    "chi_square_table = chi2.isf(p_chi, df_chi)\n"
   ]
  },
  {
   "cell_type": "code",
   "execution_count": null,
   "metadata": {},
   "outputs": [],
   "source": []
  },
  {
   "cell_type": "markdown",
   "metadata": {},
   "source": [
    "# Preprocessing"
   ]
  },
  {
   "cell_type": "code",
   "execution_count": 144,
   "metadata": {},
   "outputs": [],
   "source": [
    "def remove_outliers_isolation(X,Y):\n",
    "    # identify outliers in the training dataset\n",
    "    iso = IsolationForest(contamination=0.1)\n",
    "    yhat = iso.fit_predict(X)\n",
    "    # select all rows that are not outliers\n",
    "    mask = yhat != -1\n",
    "\n",
    "    X, Y = X[mask, :], Y[mask]\n",
    "    return X,Y\n",
    "\n",
    "def min_max_normalization(X,Y):\n",
    "    row,columns=X.shape\n",
    "    for i in range(columns):\n",
    "        v = X[:, i]  \n",
    "        X[:, i] = (v - v.min()) / (v.max() - v.min())\n",
    "    Y=Y-1\n",
    "    return X,Y\n",
    "\n",
    "def z_normalization(X):\n",
    "    row,columns=X.shape\n",
    "    for i in range(columns):\n",
    "        v = X[:, i]  \n",
    "        X[:, i] = (v - np.mean(v)) / np.std(v)\n",
    "    return X\n",
    "\n",
    "def mahalanobis_distance(X_data):\n",
    "    covariance_matrix = np.cov(X_data, rowvar=False)\n",
    "    if is_pos_def(covariance_matrix):\n",
    "        inv_covariance_matrix = np.linalg.inv(covariance_matrix)\n",
    "    else:\n",
    "        inv_covariance_matrix = np.linalg.pinv(covariance_matrix)\n",
    "\n",
    "    vars_mean = np.zeros(X_data.shape)\n",
    "    for i in range(X_data.shape[0]):\n",
    "        vars_mean[i]=X_data.mean(axis=0)\n",
    "        \n",
    "\n",
    "    diff = X_data - vars_mean\n",
    "    md = []\n",
    "    \n",
    "    for i in range(len(diff)):\n",
    "        md.append(np.sqrt(diff[i].dot(inv_covariance_matrix).dot(diff[i].T)))\n",
    "\n",
    "    return md\n",
    "\n",
    "\n",
    "def MD_detect_outliers(X_data, extreme=False):\n",
    "    MD = mahalanobis_distance(X_data)\n",
    "\n",
    "    std = np.std(MD)\n",
    "    k = 3. * std if extreme else 2. * std\n",
    "    m = np.mean(MD)\n",
    "    up_t = m + k\n",
    "    low_t = m - k\n",
    "    outliers = []\n",
    "    for i in range(len(MD)):\n",
    "        if (MD[i] >= up_t) or (MD[i] <= low_t):\n",
    "            outliers.append(i)  # index of the outlier\n",
    "    return np.array(outliers)\n",
    "\n",
    "def remove_outliers_mahalanobis(X_data,Y_data):\n",
    "    outliers=MD_detect_outliers(X_data)\n",
    "    x_not_outliers=np.delete(X_data,np.asarray(outliers),0)\n",
    "    y_not_outliers=np.delete(Y_data,np.asarray(outliers),0)\n",
    "    return x_not_outliers,y_not_outliers\n",
    "\n",
    "\n",
    "def is_pos_def(A):\n",
    "    if np.allclose(A, A.T):\n",
    "        try:\n",
    "            np.linalg.cholesky(A)\n",
    "            return True\n",
    "        except np.linalg.LinAlgError:\n",
    "            return False\n",
    "    else:\n",
    "        return False "
   ]
  },
  {
   "cell_type": "markdown",
   "metadata": {},
   "source": [
    "# Feature Selection based on hypothesis testing."
   ]
  },
  {
   "cell_type": "code",
   "execution_count": 3,
   "metadata": {},
   "outputs": [],
   "source": [
    "# Hypothesis testing\n",
    "def select_features_by_hypothesis(X,Y):\n",
    "    rows,cols=X.shape\n",
    "    p_values = hypothesis_testing(X,Y)\n",
    "    \n",
    "    number_features=np.count_nonzero(p_values != 0)\n",
    "    \n",
    "    new_X = np.zeros((rows,number_features))\n",
    "    new_Y = np.zeros((rows,1))\n",
    "    \n",
    "    col_counter=0\n",
    "    \n",
    "    for i in range(cols):\n",
    "        if p_values[i] != 0:\n",
    "            col_data = X[:,i]\n",
    "            new_X[:, col_counter] = col_data.A1\n",
    "            col_counter+=1\n",
    "            \n",
    "    return new_X\n",
    "    \n",
    "\n",
    "# Return the contigency table and fredom degrees\n",
    "def create_contigency_table(feature,target):\n",
    "    # print(feature.shape)\n",
    "    # print(target.shape)\n",
    "    df = pd.DataFrame({'feature':feature[:,0], 'target':target[:,0]})\n",
    "\n",
    "    unique_values=np.unique(np.asarray(feature))\n",
    "    target_values=np.unique(np.asarray(target))\n",
    "\n",
    "    rows=len(unique_values)+1\n",
    "    cols=len(target_values)+1\n",
    "\n",
    "    contigency_matrix= np.zeros((rows,cols))\n",
    "\n",
    "    #Creates table\n",
    "    for i in unique_values:\n",
    "        value = str(i)\n",
    "        for j in target_values:\n",
    "            clas = str(j)\n",
    "            f_temp=df.query(\"feature==\"+value+\" & target==\"+clas)\n",
    "            contigency_matrix[i][j]=len(f_temp)\n",
    "\n",
    "    #Update totals\n",
    "    sum_rows=contigency_matrix.sum(axis=1)\n",
    "    contigency_matrix[:,cols-1]=sum_rows.T\n",
    "\n",
    "    sum_cols=contigency_matrix.sum(axis=0)\n",
    "    contigency_matrix[rows-1,:]=sum_cols\n",
    "\n",
    "    #Calculate freedom deg\n",
    "    fredom_degrees=(rows-2)*(cols-2)\n",
    "    \n",
    "    return contigency_matrix,fredom_degrees\n",
    "\n",
    "def compute_chi(contigency_matrix):\n",
    "    con_rows,con_cols=contigency_matrix.shape\n",
    "    \n",
    "    # Create table for chi tabulation\n",
    "    chi_table=np.zeros(((con_rows-1)*(con_cols-1),3))\n",
    "\n",
    "    total=contigency_matrix[con_rows-1,con_cols-1]\n",
    "    \n",
    "    row_counter=0\n",
    "\n",
    "    for i in range(con_rows-1):\n",
    "        row_total=contigency_matrix[i,con_cols-1]\n",
    "\n",
    "        for j in range(con_cols-1):\n",
    "            col_total = contigency_matrix[con_rows-1,j]\n",
    "            p=(row_total/total)*(col_total/total)\n",
    "            expected_value = total*p\n",
    "            observed_value = contigency_matrix[i,j]\n",
    "\n",
    "            chi_table[row_counter][0]=observed_value\n",
    "            chi_table[row_counter][1]=expected_value\n",
    "            chi_table[row_counter][2]=((observed_value - expected_value)**2)/expected_value\n",
    "            row_counter+=1\n",
    "\n",
    "\n",
    "    chi_value=chi_table.sum(axis=0)[2]\n",
    "    return chi_value\n",
    "\n",
    "\n",
    "# Say if the chi value passed the hypothesis test,return the value when passed and 0 when not\n",
    "def passed_hypothesis(chi_value, freedom_deg):\n",
    "    chi_table_value = chi_square_table[freedom_deg-1]\n",
    "    if chi_value < chi_table_value:\n",
    "        return 0\n",
    "    else:\n",
    "        return chi_value\n",
    "    \n",
    "\n",
    "# hypothesis testing in all dataset\n",
    "# Return: an array with 0 for the features that did not pass the test \n",
    "#         and values different from 0 for the ones that pass\n",
    "def hypothesis_testing(X,Y):\n",
    "    rows,cols=X.shape\n",
    "    \n",
    "    p_values=list()\n",
    "    \n",
    "    for i in range(cols):\n",
    "        feature= np.asarray(X[:,i])\n",
    "        target = np.asarray(Y[:,0])\n",
    "        \n",
    "        contigency_matrix, freedom_deg = create_contigency_table(feature,target)\n",
    "        chi_value=compute_chi(contigency_matrix)\n",
    "        value=passed_hypothesis(chi_value,freedom_deg)\n",
    "        \n",
    "        p_values.append(value)\n",
    "\n",
    "    \n",
    "    return np.asarray(p_values)\n"
   ]
  },
  {
   "cell_type": "markdown",
   "metadata": {},
   "source": [
    "# Sequential Fordward Selection using the Scatter Metric"
   ]
  },
  {
   "cell_type": "code",
   "execution_count": 106,
   "metadata": {},
   "outputs": [],
   "source": [
    "# Return matrix with the best scoring features\n",
    "def sequential_forward_selection(X_data,Y_data, k):\n",
    "    rows, cols = X_data.shape\n",
    "    hist_j1=list()\n",
    "\n",
    "    best_features=list()\n",
    "\n",
    "    for i in range(k):\n",
    "        rem_rows,rem_cols = X_data.shape\n",
    "        best_j1 = [0,0] # position, value\n",
    "\n",
    "        for j in range(rem_cols):\n",
    "            if j in best_features:\n",
    "                continue\n",
    "\n",
    "            temp_j1 = get_j1(X_data[:,np.asarray(best_features+[j])],Y_data)\n",
    "\n",
    "            if temp_j1 > best_j1[1]:\n",
    "                best_j1=[j,temp_j1]\n",
    "\n",
    "        hist_j1.append(best_j1[1])\n",
    "        best_features.append(best_j1[0])\n",
    "\n",
    "\n",
    "    #print(best_features)\n",
    "#     print(hist_j1)\n",
    "    return X_data[:,np.asarray(best_features)]\n",
    "    \n",
    "# Return scatter matrix: scatter_within_classes, scatter_between_classes\n",
    "def compute_scatter(X_data,Y_data):\n",
    "    rows, cols=X_data.shape\n",
    "\n",
    "    classes=np.unique(np.asarray(Y_data))\n",
    "    no_classes = classes.shape\n",
    "    total_vector = np.zeros(no_classes)\n",
    "\n",
    "    y_array=np.asarray(Y_data)\n",
    "    means_by_classes = np.zeros((no_classes[0], cols))\n",
    "\n",
    "\n",
    "    cov_by_classes = np.zeros((no_classes[0], cols, cols))\n",
    "\n",
    "    # Scatter matrix within-classes\n",
    "    scatter_within_classes = np.zeros((cols,cols))\n",
    "\n",
    "    # Scatter matrix between-classes\n",
    "    scatter_between_classes = np.zeros((cols,cols))\n",
    "\n",
    "    # Counting ocurrences of classes, calculate means, compute covariance\n",
    "    for i in classes:\n",
    "        # Counting ocurrences\n",
    "        total_vector[i]=np.count_nonzero( Y_data != i)\n",
    "\n",
    "        # Get classes samples\n",
    "        labeled_data = X_data[y_array[:,0]==i,:]\n",
    "        labeled_row,labeled_col=labeled_data.shape\n",
    "\n",
    "        # Calculate mean\n",
    "        sum_cols=labeled_data.sum(axis=0)\n",
    "        means_by_classes[i]=(1/total_vector[i])*sum_cols\n",
    "\n",
    "\n",
    "        # Covariance by classes\n",
    "        labeled_data=labeled_data-means_by_classes[i]\n",
    "        cov=np.dot(labeled_data.T,labeled_data)\n",
    "\n",
    "        cov_by_classes[i]=cov\n",
    "\n",
    "        scatter_within_classes += cov_by_classes[i]\n",
    "\n",
    "\n",
    "    scatter_temp=np.asmatrix(means_by_classes[0]-means_by_classes[1])\n",
    "    scatter_between_classes = np.dot(scatter_temp.T,scatter_temp)\n",
    "\n",
    "    return scatter_within_classes, scatter_between_classes\n",
    "\n",
    "\n",
    "\n",
    "def get_j1(feature, target):\n",
    "    scatter_within_classes, scatter_between_classes = compute_scatter(feature,target)\n",
    "    \n",
    "    scatter_mixture = scatter_within_classes + scatter_between_classes\n",
    "    \n",
    "    return scatter_mixture.trace()/scatter_within_classes.trace()\n"
   ]
  },
  {
   "cell_type": "markdown",
   "metadata": {},
   "source": [
    "# Regression"
   ]
  },
  {
   "cell_type": "code",
   "execution_count": 44,
   "metadata": {},
   "outputs": [],
   "source": [
    "\n",
    "def costFunctionReg(X, y, w, l_lambda):\n",
    "    m, n = y.shape\n",
    "    f = 0\n",
    "    prediction = np.dot(X, w)\n",
    "    reg = (l_lambda / (2 * m)) * np.sum(np.square(w))\n",
    "    f = float((1. / (2 * m)) * np.dot((prediction - y).T, (prediction - y))) + reg\n",
    "    return f\n",
    "\n",
    "\n",
    "def gradient_descent_ridge(X, y, w, learning_rate, l_lambda, iterations):\n",
    "    m, n= y.shape\n",
    "    cost_history = np.zeros(iterations)\n",
    "#     X = X / (np.linalg.norm(X, axis=0))\n",
    "#     y = y / (np.linalg.norm(y, axis=0))\n",
    "    for i in range(iterations):\n",
    "        # Predicted Y\n",
    "        predicted = np.dot(X, w)\n",
    "\n",
    "        # Gradient descent\n",
    "        w = w - learning_rate * (1 / m) * (np.dot(X.T, (predicted - y)) + l_lambda * w)\n",
    "\n",
    "        # Cost function\n",
    "        cost_history[i] = costFunctionReg(X, y, w, l_lambda)\n",
    "\n",
    "    return w, cost_history\n",
    "\n",
    "def sigmoid(scores):\n",
    "    return 1 / (1 + np.exp(-scores))"
   ]
  },
  {
   "cell_type": "markdown",
   "metadata": {},
   "source": [
    "# Load Data"
   ]
  },
  {
   "cell_type": "code",
   "execution_count": 9,
   "metadata": {},
   "outputs": [],
   "source": [
    "mat = scipy.io.loadmat('Data/PCMAC.mat')\n",
    "\n",
    "X_data=mat['X']\n",
    "Y_data=mat['Y']\n",
    "# print(type(mat['X']),mat['X'].shape)\n",
    "# print(type(mat['Y']),mat['Y'].shape)\n",
    "\n",
    "X=pd.DataFrame(X_data)\n",
    "Y=pd.DataFrame(Y_data)\n",
    "X.head()\n",
    "\n",
    "#separate data\n",
    "X_train, X_test, Y_train, Y_test = train_test_split(X, Y, test_size=0.25, random_state=10)\n",
    "X_train=np.asmatrix(X_train)\n",
    "Y_train=np.asmatrix(Y_train)"
   ]
  },
  {
   "cell_type": "markdown",
   "metadata": {},
   "source": [
    "# No-preprocessing - Raw Features"
   ]
  },
  {
   "cell_type": "code",
   "execution_count": 140,
   "metadata": {},
   "outputs": [
    {
     "name": "stdout",
     "output_type": "stream",
     "text": [
      "Accuracy from Regression with Raw data: 0.5298558682223747\n"
     ]
    }
   ],
   "source": [
    "# Raw data Regression\n",
    "w = np.zeros((1,X_train.shape[1])).T\n",
    "w_raw, cost_history_raw=gradient_descent_ridge(X_train,Y_train,w,0.01,10,2500)\n",
    "\n",
    "y_raw_predicted=np.dot(X_train,w_raw)\n",
    "\n",
    "y_raw_predicted=np.asarray(y_raw_predicted)\n",
    "y_raw_predicted[(y_raw_predicted > 1.5)] = 2.0\n",
    "y_raw_predicted[(y_raw_predicted <= 1.5)] = 1.0\n",
    "\n",
    "print('Accuracy from Regression with Raw data: {0}'.format((y_raw_predicted == np.asarray(Y_train)).sum().astype(float) / len(np.asarray(y_raw_predicted))))"
   ]
  },
  {
   "cell_type": "markdown",
   "metadata": {},
   "source": [
    "# Preprocessing + Feature Selection based on hypothesis testing"
   ]
  },
  {
   "cell_type": "code",
   "execution_count": 145,
   "metadata": {},
   "outputs": [
    {
     "name": "stdout",
     "output_type": "stream",
     "text": [
      "Before removing outliers: (1457, 3289)\n",
      "After removing outliers: (1365, 3289)\n",
      "Before select features: (1365, 3289)\n",
      "Before select features: (1365, 364)\n",
      "Accuracy from Regression with Raw data: 0.6593406593406593\n"
     ]
    }
   ],
   "source": [
    "# Preprocessing + Feature Selection based on hypothesis testing\n",
    "\n",
    "# Preprocessing\n",
    "print(\"Before removing outliers:\",X_train.shape)\n",
    "X_clean_mahalanobis,Y_clean_mahalanobis=remove_outliers_mahalanobis(X_train,Y_train)\n",
    "X_mahalanobis_norm,Y_mahalanobis_norm=min_max_normalization(X_clean_mahalanobis,Y_clean_mahalanobis)\n",
    "print(\"After removing outliers:\",X_mahalanobis_norm.shape)\n",
    "\n",
    "# hypothesis\n",
    "print(\"Before select features:\",X_mahalanobis_norm.shape)\n",
    "X_clean_features = select_features_by_hypothesis(X_mahalanobis_norm,Y_mahalanobis_norm)\n",
    "print(\"After select features:\",X_clean_features.shape)\n",
    "\n",
    "# Regression\n",
    "w = np.zeros((1,X_clean_features.shape[1])).T\n",
    "w_pre, cost_history_pre = gradient_descent_ridge(X_clean_features,Y_mahalanobis_norm,w,0.01,10,2500)\n",
    "\n",
    "y_pre_predicted=np.dot(X_clean_features,w_pre)\n",
    "\n",
    "y_pre_predicted_2=y_pre_predicted.copy()\n",
    "y_pre_predicted_2=np.asarray(y_pre_predicted_2)\n",
    "y_pre_predicted_2[(y_pre_predicted_2 > 0)] = 1\n",
    "y_pre_predicted_2[(y_pre_predicted_2 <= 0)] = 0\n",
    "\n",
    "print('Accuracy from Regression with pre+hyp data: {0}'.format(\n",
    "    (y_pre_predicted_2 == np.asarray(Y_mahalanobis_norm)).sum().astype(float) / len(np.asarray(y_pre_predicted_2))))"
   ]
  },
  {
   "cell_type": "code",
   "execution_count": 149,
   "metadata": {},
   "outputs": [
    {
     "name": "stdout",
     "output_type": "stream",
     "text": [
      "Before removing outliers: (1457, 3289)\n"
     ]
    },
    {
     "name": "stderr",
     "output_type": "stream",
     "text": [
      "/usr/local/lib/python3.7/dist-packages/ipykernel_launcher.py:15: RuntimeWarning: invalid value encountered in true_divide\n",
      "  from ipykernel import kernelapp as app\n"
     ]
    },
    {
     "name": "stdout",
     "output_type": "stream",
     "text": [
      "After removing outliers: (1311, 3289)\n",
      "Before select features: (1311, 3289)\n",
      "Before select features: (1311, 227)\n",
      "Accuracy from Regression with pre_isolation data: 0.6056445461479787\n"
     ]
    }
   ],
   "source": [
    "# Preprocessing + Feature Selection based on hypothesis testing with isolacion\n",
    "\n",
    "# Preprocessing\n",
    "print(\"Before removing outliers:\",X_train.shape)\n",
    "X_clean_isolation,Y_clean_isolation=remove_outliers_isolation(X_train,Y_train)\n",
    "X_isolation_norm,Y_isolation_norm=min_max_normalization(X_clean_isolation,Y_clean_isolation)\n",
    "print(\"After removing outliers:\",X_isolation_norm.shape)\n",
    "\n",
    "# hypothesis\n",
    "print(\"Before select features:\",X_isolation_norm.shape)\n",
    "X_clean_features = select_features_by_hypothesis(X_isolation_norm,Y_isolation_norm)\n",
    "print(\"After select features:\",X_clean_features.shape)\n",
    "\n",
    "# Regression\n",
    "w = np.zeros((1,X_clean_features.shape[1])).T\n",
    "w_pre_iso, cost_history_pre_iso = gradient_descent_ridge(X_clean_features,Y_isolation_norm,w,0.01,10,2500)\n",
    "\n",
    "y_pre_predicted_iso=np.dot(X_clean_features,w_pre_iso)\n",
    "\n",
    "y_pre_predicted_2=y_pre_predicted_iso.copy()\n",
    "y_pre_predicted_2=np.asarray(y_pre_predicted_2)\n",
    "y_pre_predicted_2[(y_pre_predicted_2 > 0)] = 1\n",
    "y_pre_predicted_2[(y_pre_predicted_2 <= 0)] = 0\n",
    "\n",
    "print('Accuracy from Regression with pre_isolation data: {0}'.format(\n",
    "    (y_pre_predicted_2 == np.asarray(Y_isolation_norm)).sum().astype(float) / len(np.asarray(y_pre_predicted_2))))"
   ]
  },
  {
   "cell_type": "markdown",
   "metadata": {},
   "source": [
    "# Preprocessing + Feature Selection based on hypothesis testing + Sequential Fordward Selection"
   ]
  },
  {
   "cell_type": "code",
   "execution_count": 157,
   "metadata": {},
   "outputs": [
    {
     "name": "stdout",
     "output_type": "stream",
     "text": [
      "Before removing outliers: (1457, 3289)\n",
      "After removing outliers: (1365, 3289)\n",
      "Before select features: (1365, 3289)\n",
      "After select features: (1365, 364)\n",
      "Accuracy from Regression with Raw data: 0.5868131868131868\n"
     ]
    }
   ],
   "source": [
    "# Preprocessing + Feature Selection based on hypothesis testing + Sequential Fordward Selection.\n",
    "\n",
    "# Preprocessing\n",
    "print(\"Before removing outliers:\",X_train.shape)\n",
    "X_clean_mahalanobis,Y_clean_mahalanobis=remove_outliers_mahalanobis(X_train,Y_train)\n",
    "X_norm,Y_norm=min_max_normalization(X_clean_mahalanobis,Y_clean_mahalanobis)\n",
    "print(\"After removing outliers:\",X_mahalanobis_norm.shape)\n",
    "\n",
    "# hypothesis\n",
    "print(\"Before select features:\",X_norm.shape)\n",
    "X_clean_features = select_features_by_hypothesis(X_norm,Y_norm)\n",
    "print(\"After select features:\",X_clean_features.shape)\n",
    "\n",
    "# SFS with K = 100\n",
    "\n",
    "X_SFS=sequential_forward_selection(X_clean_features,Y_norm,105)\n",
    "\n",
    "# Regression\n",
    "w = np.zeros((1,X_SFS.shape[1])).T\n",
    "w_SFS, cost_history_SFS = gradient_descent_ridge(X_SFS,Y_norm,w,0.01,10,2500)\n",
    "\n",
    "y_SFS_predicted=np.dot(X_SFS,w_SFS)\n",
    "\n",
    "y_SFS_predicted_2=y_SFS_predicted.copy()\n",
    "y_SFS_predicted_2=np.asarray(y_SFS_predicted_2)\n",
    "y_SFS_predicted_2[(y_SFS_predicted_2 >= 0)] = 1\n",
    "y_SFS_predicted_2[(y_SFS_predicted_2 < 0)] = 0\n",
    "\n",
    "print('Accuracy from Regression with Raw data: {0}'.format(\n",
    "    (y_SFS_predicted_2 == np.asarray(Y_norm)).sum().astype(float) / len(np.asarray(y_SFS_predicted_2))))"
   ]
  },
  {
   "cell_type": "code",
   "execution_count": 153,
   "metadata": {},
   "outputs": [
    {
     "name": "stdout",
     "output_type": "stream",
     "text": [
      "Before removing outliers: (1457, 3289)\n"
     ]
    },
    {
     "name": "stderr",
     "output_type": "stream",
     "text": [
      "/usr/local/lib/python3.7/dist-packages/ipykernel_launcher.py:15: RuntimeWarning: invalid value encountered in true_divide\n",
      "  from ipykernel import kernelapp as app\n"
     ]
    },
    {
     "name": "stdout",
     "output_type": "stream",
     "text": [
      "After removing outliers: (1311, 3289)\n",
      "Before select features: (1311, 3289)\n",
      "After select features: (1311, 233)\n",
      "Accuracy from Regression with Raw data: 0.5156369183829138\n"
     ]
    }
   ],
   "source": [
    "# Preprocessing\n",
    "print(\"Before removing outliers:\",X_train.shape)\n",
    "X_clean_isolation,Y_clean_isolation=remove_outliers_isolation(X_train,Y_train)\n",
    "X_isolation_norm,Y_isolation_norm=min_max_normalization(X_clean_isolation,Y_clean_isolation)\n",
    "print(\"After removing outliers:\",X_isolation_norm.shape)\n",
    "\n",
    "# hypothesis\n",
    "print(\"Before select features:\",X_isolation_norm.shape)\n",
    "X_clean_features = select_features_by_hypothesis(X_isolation_norm,Y_isolation_norm)\n",
    "print(\"After select features:\",X_clean_features.shape)\n",
    "\n",
    "# SFS with K = 100\n",
    "X_SFS=sequential_forward_selection(X_clean_features,Y_isolation_norm,105)\n",
    "\n",
    "# Regression\n",
    "w = np.zeros((1,X_SFS.shape[1])).T\n",
    "w_SFS_iso, cost_history_SFS_iso = gradient_descent_ridge(X_SFS,Y_isolation_norm,w,0.01,10,2500)\n",
    "\n",
    "y_SFS_predicted=np.dot(X_SFS,w_SFS_iso)\n",
    "\n",
    "y_SFS_predicted_2=y_SFS_predicted.copy()\n",
    "y_SFS_predicted_2=np.asarray(y_SFS_predicted_2)\n",
    "y_SFS_predicted_2[(y_SFS_predicted_2 >= 0)] = 1\n",
    "y_SFS_predicted_2[(y_SFS_predicted_2 < 0)] = 0\n",
    "\n",
    "print('Accuracy from Regression with Raw data: {0}'.format(\n",
    "    (y_SFS_predicted_2 == np.asarray(Y_isolation_norm)).sum().astype(float) / len(np.asarray(y_SFS_predicted_2))))\n"
   ]
  },
  {
   "cell_type": "code",
   "execution_count": 155,
   "metadata": {},
   "outputs": [
    {
     "data": {
      "image/png": "[encoded data removed]",
      "text/plain": [
       "<Figure size 1080x576 with 1 Axes>"
      ]
     },
     "metadata": {},
     "output_type": "display_data"
    }
   ],
   "source": [
    "\n",
    "\n",
    "plt.figure(figsize=(15,8))\n",
    "sns.set_style('white')\n",
    "\n",
    "plt.plot(range(2500), cost_history_raw,'g.',label=\"Raw\")\n",
    "plt.plot(range(2500), cost_history_pre,'b.',label=\"Preprocessing-Hyp\")\n",
    "plt.plot(range(2500), cost_history_SFS,'r.',label=\"Preprocessing-Hyp-SFS\")\n",
    "plt.plot(range(2500), cost_history_pre_iso,'y.',label=\"Preprocessing-Hyp-Isolation\")\n",
    "plt.plot(range(2500), cost_history_SFS_iso,'c.',label=\"Preprocessing-Hyp-SFS-Isolation\")\n",
    "\n",
    "\n",
    "plt.title(\"ROC curves\")\n",
    "plt.xlabel(\"Number of Iterations\")\n",
    "plt.ylabel(\"Cost\")\n",
    "plt.legend(loc=\"upper right\")\n",
    "\n",
    "\n",
    "#plt.grid()\n",
    "plt.show()"
   ]
  },
  {
   "cell_type": "code",
   "execution_count": 156,
   "metadata": {},
   "outputs": [
    {
     "data": {
      "image/png": "[encoded data removed]",
      "text/plain": [
       "<Figure size 1080x576 with 1 Axes>"
      ]
     },
     "metadata": {},
     "output_type": "display_data"
    }
   ],
   "source": [
    "plt.figure(figsize=(15,8))\n",
    "sns.set_style('white')\n",
    "\n",
    "plt.plot(range(2500), cost_history_pre,'b.',label=\"Preprocessing-Hyp\")\n",
    "plt.plot(range(2500), cost_history_SFS,'r.',label=\"Preprocessing-Hyp-SFS\")\n",
    "plt.plot(range(2500), cost_history_pre_iso,'y.',label=\"Preprocessing-Hyp-Isolation\")\n",
    "plt.plot(range(2500), cost_history_SFS_iso,'c.',label=\"Preprocessing-Hyp-SFS-Isolation\")\n",
    "\n",
    "\n",
    "plt.title(\"ROC curves\")\n",
    "plt.xlabel(\"Number of Iterations\")\n",
    "plt.ylabel(\"Cost\")\n",
    "plt.legend(loc=\"upper right\")\n",
    "\n",
    "\n",
    "#plt.grid()\n",
    "plt.show()"
   ]
  },
  {
   "cell_type": "code",
   "execution_count": null,
   "metadata": {},
   "outputs": [],
   "source": []
  },
  {
   "cell_type": "code",
   "execution_count": null,
   "metadata": {},
   "outputs": [],
   "source": []
  },
  {
   "cell_type": "code",
   "execution_count": null,
   "metadata": {},
   "outputs": [],
   "source": []
  },
  {
   "cell_type": "code",
   "execution_count": null,
   "metadata": {},
   "outputs": [],
   "source": []
  },
  {
   "cell_type": "code",
   "execution_count": null,
   "metadata": {},
   "outputs": [],
   "source": []
  },
  {
   "cell_type": "code",
   "execution_count": null,
   "metadata": {},
   "outputs": [],
   "source": []
  },
  {
   "cell_type": "code",
   "execution_count": null,
   "metadata": {},
   "outputs": [],
   "source": []
  },
  {
   "cell_type": "code",
   "execution_count": null,
   "metadata": {},
   "outputs": [],
   "source": []
  },
  {
   "cell_type": "code",
   "execution_count": null,
   "metadata": {},
   "outputs": [],
   "source": []
  },
  {
   "cell_type": "code",
   "execution_count": null,
   "metadata": {},
   "outputs": [],
   "source": []
  },
  {
   "cell_type": "code",
   "execution_count": null,
   "metadata": {},
   "outputs": [],
   "source": []
  },
  {
   "cell_type": "code",
   "execution_count": null,
   "metadata": {},
   "outputs": [],
   "source": []
  },
  {
   "cell_type": "code",
   "execution_count": null,
   "metadata": {},
   "outputs": [],
   "source": []
  }
 ],
 "metadata": {
  "kernelspec": {
   "display_name": "Python 3",
   "language": "python",
   "name": "python3"
  },
  "language_info": {
   "codemirror_mode": {
    "name": "ipython",
    "version": 3
   },
   "file_extension": ".py",
   "mimetype": "text/x-python",
   "name": "python",
   "nbconvert_exporter": "python",
   "pygments_lexer": "ipython3",
   "version": "3.7.5"
  }
 },
 "nbformat": 4,
 "nbformat_minor": 4
}
