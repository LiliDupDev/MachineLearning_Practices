{
 "cells": [
  {
   "cell_type": "code",
   "execution_count": 88,
   "metadata": {},
   "outputs": [],
   "source": [
    "from sklearn.datasets import make_regression\n",
    "import numpy as np\n",
    "import math\n",
    "import matplotlib.pyplot as plt\n",
    "\n",
    "\n",
    "def costFunctionReg(X, y, w, l_lambda):\n",
    "    m, n = y.shape\n",
    "    f = 0\n",
    "    prediction = np.dot(X, w)\n",
    "    reg = (l_lambda / (2 * m)) * np.sum(np.square(w))\n",
    "    f = float((1. / (2 * m)) * np.dot((prediction - y).T, (prediction - y))) + reg\n",
    "    return f\n",
    "\n",
    "\n",
    "def gradient_descent_ridge(X, y, w, learning_rate, l_lambda, iterations):\n",
    "    m, n= y.shape\n",
    "    cost_history = np.zeros(iterations)\n",
    "    X = X / (np.linalg.norm(X, axis=0))\n",
    "    y = y / (np.linalg.norm(y, axis=0))\n",
    "    for i in range(iterations):\n",
    "        # Predicted Y\n",
    "        predicted = np.dot(X, w)\n",
    "\n",
    "        # Gradient descent\n",
    "        w = w - learning_rate * (1 / m) * (np.dot(X.T, (predicted - y)) + l_lambda * w)\n",
    "\n",
    "        # Cost function\n",
    "        cost_history[i] = costFunctionReg(X, y, w, l_lambda)\n",
    "\n",
    "    return w, cost_history\n",
    "\n",
    "\n",
    "def nesterov_gradient_descent_ridge(X, y, w, learning_rate, l_lambda, iterations):\n",
    "    m, n= y.shape\n",
    "    cost_history = np.zeros(iterations)\n",
    "    \n",
    "    X = X / (np.linalg.norm(X, axis=0))\n",
    "    y = y / (np.linalg.norm(y, axis=0))\n",
    "\n",
    "    lambda_current = 0      # lambda n\n",
    "    lambda_old = 0          # lambda n-1\n",
    "    lambda_new = 0          # lambda n+1\n",
    "    for i in range(iterations):\n",
    "        # Predicted Y\n",
    "        predicted = np.dot(X, w)\n",
    "\n",
    "        # Gradient descent\n",
    "        w_n_1 = w - (learning_rate) * (1 / m) * (np.dot(X.T, (predicted - y)) + l_lambda * w) #w\n",
    "\n",
    "        # Nesterov\n",
    "        lambda_current =(1+math.sqrt(1+4*lambda_old**2))/2\n",
    "        lambda_new = (1 + math.sqrt(1 + 4 * lambda_current ** 2)) / 2\n",
    "        gamma = (1-lambda_current)/(lambda_new)\n",
    "\n",
    "        # New values\n",
    "        w = (1-gamma)*w_n_1+(gamma*w)\n",
    "\n",
    "        # Cost function\n",
    "        cost_history[i] = costFunctionReg(X, y, w, l_lambda)\n",
    "\n",
    "        # Updating for new iteration\n",
    "        lambda_old = lambda_current\n",
    "        lambda_current = lambda_new\n",
    "\n",
    "    return w, cost_history\n",
    "\n",
    "\n",
    "\n",
    "def get_mini_batches(X, y, batch_size):\n",
    "    random_idxs = np.random.choice(len(y), len(y), replace=False)\n",
    "    X_shuffled = X[random_idxs, :]\n",
    "    y_shuffled = y[random_idxs]\n",
    "\n",
    "    mini_batches = [(X_shuffled[i:i + batch_size, :], y_shuffled[i:i + batch_size]) for i in range(0, len(y), batch_size)]\n",
    "\n",
    "    return mini_batches\n",
    "\n",
    "\n",
    "\n",
    "def min_batch_SGD_ridge(X, y, w, learning_rate, l_lambda, iterations, batch_size):\n",
    "    m, n = y.shape\n",
    "    cost_history = np.zeros(iterations)\n",
    "    X = X / (np.linalg.norm(X, axis=0))\n",
    "    y = y / (np.linalg.norm(y, axis=0))\n",
    "\n",
    "    for i in range(iterations):\n",
    "        mini_batches = get_mini_batches(X, y, batch_size)\n",
    "        total_batches = len(mini_batches)\n",
    "        cost = 0\n",
    "\n",
    "        for selected_batch in range(total_batches):\n",
    "            x_batch = mini_batches[selected_batch][0]\n",
    "            y_batch = mini_batches[selected_batch][1]\n",
    "            m_i,n_i=x_batch.shape\n",
    "\n",
    "            # Predicted Y\n",
    "            predicted = np.dot(x_batch, w)\n",
    "\n",
    "            # Gradient descent\n",
    "            w = w - learning_rate * (1/m_i) * (np.dot(x_batch.T, (predicted - y_batch)) + l_lambda * w)\n",
    "            cost += costFunctionReg(x_batch, y_batch, w, l_lambda)\n",
    "\n",
    "        # Cost function\n",
    "        cost_history[i] = cost/total_batches\n",
    "    return w, cost_history\n",
    "\n",
    "########################################################################################\n",
    "# Lasso\n",
    "########################################################################################\n",
    "def sigmoid(w):\n",
    "  return 1 / (1 + np.exp(-w))\n",
    "\n",
    "def costFunctionReg_Lasso(X, y, w, lambda_l):\n",
    "    m,n = y.shape\n",
    "    prediction = np.dot(X, w)\n",
    "    reg = lambda_l * np.sum(sigmoid(w))\n",
    "    f = (1/m) * np.dot( (prediction - y).T, (prediction - y)) + reg\n",
    "    return f\n",
    "\n",
    "#Lasso\n",
    "def gradient_descent_lasso(X, y, w, learning_rate, l_lambda, iterations):\n",
    "    m, n = y.shape\n",
    "    cost_history = np.zeros(iterations)\n",
    "    X = X / (np.linalg.norm(X, axis=0))\n",
    "    y = y / (np.linalg.norm(y, axis=0))\n",
    "    \n",
    "    for i in range(iterations):\n",
    "\n",
    "        # Predicted Y\n",
    "        predicted = np.dot(X, w)\n",
    "        error = predicted - y\n",
    "\n",
    "        # Gradient descent\n",
    "        w = w - learning_rate * (1/m)*(np.dot(X.T,error) + l_lambda * sigmoid(w))\n",
    "\n",
    "        cost = costFunctionReg_Lasso(X,y,w,l_lambda)\n",
    "        cost_history[i] = cost\n",
    "\n",
    "    return w, cost_history\n",
    "\n",
    "\n",
    "\n",
    "def nesterov_gradient_descent_lasso(X, y, w, learning_rate, l_lambda, iterations):\n",
    "    m, n = y.shape\n",
    "    cost_history = np.zeros(iterations)\n",
    "\n",
    "    lambda_current = 0  # lambda n\n",
    "    lambda_old = 0  # lambda n-1\n",
    "    lambda_new = 0  # lambda n+1\n",
    "    X = X / (np.linalg.norm(X, axis=0))\n",
    "    y = y / (np.linalg.norm(y, axis=0))\n",
    "\n",
    "    for i in range(iterations):\n",
    "        # Predicted Y\n",
    "        predicted = np.dot(X, w)\n",
    "        error = predicted - y\n",
    "\n",
    "        lambda_current = (1 + math.sqrt(1 + 4 * lambda_old ** 2)) / 2\n",
    "        lambda_new = (1 + math.sqrt(1 + 4 * lambda_current ** 2)) / 2\n",
    "        gamma = (1 - lambda_current) / lambda_new\n",
    "\n",
    "        # Gradient descent\n",
    "        w_n_1 = w - learning_rate * 1/m * (np.dot(X.T, error) + l_lambda * sigmoid(w))\n",
    "\n",
    "        # New values\n",
    "        w = (1 - gamma) * w_n_1 + (gamma * w)\n",
    "\n",
    "        # Cost function\n",
    "        cost =  costFunctionReg_Lasso(X,y,w,l_lambda)\n",
    "        cost_history[i] = cost\n",
    "\n",
    "        # Updating for new iteration\n",
    "        lambda_old = lambda_current\n",
    "        lambda_current = lambda_new\n",
    "\n",
    "    return w, cost_history\n",
    "\n",
    "\n",
    "def get_mini_batches(X, y, batch_size):\n",
    "    random_idxs = np.random.choice(len(y), len(y), replace=False)\n",
    "    X_shuffled = X[random_idxs, :]\n",
    "    y_shuffled = y[random_idxs]\n",
    "\n",
    "    mini_batches = [(X_shuffled[i:i + batch_size, :], y_shuffled[i:i + batch_size]) for i in range(0, len(y), batch_size)]\n",
    "\n",
    "    return mini_batches\n",
    "\n",
    "\n",
    "def min_batch_SGD_lasso(X, y, w, learning_rate, l_lambda, iterations, batch_size):\n",
    "    m, n= y.shape\n",
    "    cost_history = np.zeros(iterations)\n",
    "    X = X / (np.linalg.norm(X, axis=0))\n",
    "    y = y / (np.linalg.norm(y, axis=0))\n",
    "\n",
    "    for i in range(iterations):\n",
    "        mini_batches = get_mini_batches(X, y, batch_size)\n",
    "        total_batches = len(mini_batches)\n",
    "        cost = 0\n",
    "\n",
    "        for selected_batch in range(total_batches):\n",
    "            x_batch = mini_batches[selected_batch][0]\n",
    "            y_batch = mini_batches[selected_batch][1]\n",
    "\n",
    "            # Predicted Y\n",
    "            predicted = np.dot(x_batch, w)\n",
    "            error = predicted - y_batch\n",
    "\n",
    "            # Gradient descent\n",
    "            w = w - learning_rate * (np.dot(x_batch.T, error) + l_lambda * sigmoid(w))\n",
    "            cost += costFunctionReg_Lasso(x_batch, y_batch, w, l_lambda)\n",
    "\n",
    "\n",
    "        # Cost function\n",
    "        cost_history[i] = cost/total_batches\n",
    "    return w, cost_history"
   ]
  },
  {
   "cell_type": "code",
   "execution_count": 54,
   "metadata": {},
   "outputs": [],
   "source": [
    "import pandas as pd  \n",
    "import numpy as np  \n",
    "import matplotlib.pyplot as plt  \n",
    "import seaborn as seabornInstance \n",
    "from sklearn.model_selection import train_test_split \n",
    "from sklearn.linear_model import LinearRegression\n",
    "from sklearn import metrics\n",
    "%matplotlib inline"
   ]
  },
  {
   "cell_type": "code",
   "execution_count": 55,
   "metadata": {},
   "outputs": [
    {
     "name": "stderr",
     "output_type": "stream",
     "text": [
      "/usr/local/lib/python3.7/dist-packages/IPython/core/interactiveshell.py:3063: DtypeWarning: Columns (7,8,18,25) have mixed types.Specify dtype option on import or set low_memory=False.\n",
      "  interactivity=interactivity, compiler=compiler, result=result)\n"
     ]
    },
    {
     "data": {
      "text/plain": [
       "(119040, 31)"
      ]
     },
     "execution_count": 55,
     "metadata": {},
     "output_type": "execute_result"
    }
   ],
   "source": [
    "dataset = pd.read_csv('Data/weather.csv')\n",
    "dataset.shape"
   ]
  },
  {
   "cell_type": "code",
   "execution_count": 56,
   "metadata": {},
   "outputs": [
    {
     "data": {
      "text/html": [
       "<div>\n",
       "<style scoped>\n",
       "    .dataframe tbody tr th:only-of-type {\n",
       "        vertical-align: middle;\n",
       "    }\n",
       "\n",
       "    .dataframe tbody tr th {\n",
       "        vertical-align: top;\n",
       "    }\n",
       "\n",
       "    .dataframe thead th {\n",
       "        text-align: right;\n",
       "    }\n",
       "</style>\n",
       "<table border=\"1\" class=\"dataframe\">\n",
       "  <thead>\n",
       "    <tr style=\"text-align: right;\">\n",
       "      <th></th>\n",
       "      <th>STA</th>\n",
       "      <th>Date</th>\n",
       "      <th>Precip</th>\n",
       "      <th>WindGustSpd</th>\n",
       "      <th>MaxTemp</th>\n",
       "      <th>MinTemp</th>\n",
       "      <th>MeanTemp</th>\n",
       "      <th>Snowfall</th>\n",
       "      <th>PoorWeather</th>\n",
       "      <th>YR</th>\n",
       "      <th>...</th>\n",
       "      <th>FB</th>\n",
       "      <th>FTI</th>\n",
       "      <th>ITH</th>\n",
       "      <th>PGT</th>\n",
       "      <th>TSHDSBRSGF</th>\n",
       "      <th>SD3</th>\n",
       "      <th>RHX</th>\n",
       "      <th>RHN</th>\n",
       "      <th>RVG</th>\n",
       "      <th>WTE</th>\n",
       "    </tr>\n",
       "  </thead>\n",
       "  <tbody>\n",
       "    <tr>\n",
       "      <th>0</th>\n",
       "      <td>10001</td>\n",
       "      <td>1942-7-1</td>\n",
       "      <td>1.016</td>\n",
       "      <td>NaN</td>\n",
       "      <td>25.555556</td>\n",
       "      <td>22.222222</td>\n",
       "      <td>23.888889</td>\n",
       "      <td>0</td>\n",
       "      <td>NaN</td>\n",
       "      <td>42</td>\n",
       "      <td>...</td>\n",
       "      <td>NaN</td>\n",
       "      <td>NaN</td>\n",
       "      <td>NaN</td>\n",
       "      <td>NaN</td>\n",
       "      <td>NaN</td>\n",
       "      <td>NaN</td>\n",
       "      <td>NaN</td>\n",
       "      <td>NaN</td>\n",
       "      <td>NaN</td>\n",
       "      <td>NaN</td>\n",
       "    </tr>\n",
       "    <tr>\n",
       "      <th>1</th>\n",
       "      <td>10001</td>\n",
       "      <td>1942-7-2</td>\n",
       "      <td>0</td>\n",
       "      <td>NaN</td>\n",
       "      <td>28.888889</td>\n",
       "      <td>21.666667</td>\n",
       "      <td>25.555556</td>\n",
       "      <td>0</td>\n",
       "      <td>NaN</td>\n",
       "      <td>42</td>\n",
       "      <td>...</td>\n",
       "      <td>NaN</td>\n",
       "      <td>NaN</td>\n",
       "      <td>NaN</td>\n",
       "      <td>NaN</td>\n",
       "      <td>NaN</td>\n",
       "      <td>NaN</td>\n",
       "      <td>NaN</td>\n",
       "      <td>NaN</td>\n",
       "      <td>NaN</td>\n",
       "      <td>NaN</td>\n",
       "    </tr>\n",
       "    <tr>\n",
       "      <th>2</th>\n",
       "      <td>10001</td>\n",
       "      <td>1942-7-3</td>\n",
       "      <td>2.54</td>\n",
       "      <td>NaN</td>\n",
       "      <td>26.111111</td>\n",
       "      <td>22.222222</td>\n",
       "      <td>24.444444</td>\n",
       "      <td>0</td>\n",
       "      <td>NaN</td>\n",
       "      <td>42</td>\n",
       "      <td>...</td>\n",
       "      <td>NaN</td>\n",
       "      <td>NaN</td>\n",
       "      <td>NaN</td>\n",
       "      <td>NaN</td>\n",
       "      <td>NaN</td>\n",
       "      <td>NaN</td>\n",
       "      <td>NaN</td>\n",
       "      <td>NaN</td>\n",
       "      <td>NaN</td>\n",
       "      <td>NaN</td>\n",
       "    </tr>\n",
       "    <tr>\n",
       "      <th>3</th>\n",
       "      <td>10001</td>\n",
       "      <td>1942-7-4</td>\n",
       "      <td>2.54</td>\n",
       "      <td>NaN</td>\n",
       "      <td>26.666667</td>\n",
       "      <td>22.222222</td>\n",
       "      <td>24.444444</td>\n",
       "      <td>0</td>\n",
       "      <td>NaN</td>\n",
       "      <td>42</td>\n",
       "      <td>...</td>\n",
       "      <td>NaN</td>\n",
       "      <td>NaN</td>\n",
       "      <td>NaN</td>\n",
       "      <td>NaN</td>\n",
       "      <td>NaN</td>\n",
       "      <td>NaN</td>\n",
       "      <td>NaN</td>\n",
       "      <td>NaN</td>\n",
       "      <td>NaN</td>\n",
       "      <td>NaN</td>\n",
       "    </tr>\n",
       "    <tr>\n",
       "      <th>4</th>\n",
       "      <td>10001</td>\n",
       "      <td>1942-7-5</td>\n",
       "      <td>0</td>\n",
       "      <td>NaN</td>\n",
       "      <td>26.666667</td>\n",
       "      <td>21.666667</td>\n",
       "      <td>24.444444</td>\n",
       "      <td>0</td>\n",
       "      <td>NaN</td>\n",
       "      <td>42</td>\n",
       "      <td>...</td>\n",
       "      <td>NaN</td>\n",
       "      <td>NaN</td>\n",
       "      <td>NaN</td>\n",
       "      <td>NaN</td>\n",
       "      <td>NaN</td>\n",
       "      <td>NaN</td>\n",
       "      <td>NaN</td>\n",
       "      <td>NaN</td>\n",
       "      <td>NaN</td>\n",
       "      <td>NaN</td>\n",
       "    </tr>\n",
       "  </tbody>\n",
       "</table>\n",
       "<p>5 rows × 31 columns</p>\n",
       "</div>"
      ],
      "text/plain": [
       "     STA      Date Precip  WindGustSpd    MaxTemp    MinTemp   MeanTemp  \\\n",
       "0  10001  1942-7-1  1.016          NaN  25.555556  22.222222  23.888889   \n",
       "1  10001  1942-7-2      0          NaN  28.888889  21.666667  25.555556   \n",
       "2  10001  1942-7-3   2.54          NaN  26.111111  22.222222  24.444444   \n",
       "3  10001  1942-7-4   2.54          NaN  26.666667  22.222222  24.444444   \n",
       "4  10001  1942-7-5      0          NaN  26.666667  21.666667  24.444444   \n",
       "\n",
       "  Snowfall PoorWeather  YR  ...  FB  FTI ITH  PGT  TSHDSBRSGF  SD3  RHX  RHN  \\\n",
       "0        0         NaN  42  ... NaN  NaN NaN  NaN         NaN  NaN  NaN  NaN   \n",
       "1        0         NaN  42  ... NaN  NaN NaN  NaN         NaN  NaN  NaN  NaN   \n",
       "2        0         NaN  42  ... NaN  NaN NaN  NaN         NaN  NaN  NaN  NaN   \n",
       "3        0         NaN  42  ... NaN  NaN NaN  NaN         NaN  NaN  NaN  NaN   \n",
       "4        0         NaN  42  ... NaN  NaN NaN  NaN         NaN  NaN  NaN  NaN   \n",
       "\n",
       "  RVG  WTE  \n",
       "0 NaN  NaN  \n",
       "1 NaN  NaN  \n",
       "2 NaN  NaN  \n",
       "3 NaN  NaN  \n",
       "4 NaN  NaN  \n",
       "\n",
       "[5 rows x 31 columns]"
      ]
     },
     "execution_count": 56,
     "metadata": {},
     "output_type": "execute_result"
    }
   ],
   "source": [
    "dataset.head()"
   ]
  },
  {
   "cell_type": "code",
   "execution_count": 57,
   "metadata": {},
   "outputs": [
    {
     "data": {
      "image/png": "[encoded data removed]",
      "text/plain": [
       "<Figure size 432x288 with 1 Axes>"
      ]
     },
     "metadata": {
      "needs_background": "light"
     },
     "output_type": "display_data"
    }
   ],
   "source": [
    "dataset.plot(x='MinTemp', y='MaxTemp', style='o')  \n",
    "plt.title('MinTemp vs MaxTemp')  \n",
    "plt.xlabel('MinTemp')  \n",
    "plt.ylabel('MaxTemp')  \n",
    "plt.show()"
   ]
  },
  {
   "cell_type": "code",
   "execution_count": 58,
   "metadata": {},
   "outputs": [
    {
     "data": {
      "text/plain": [
       "<matplotlib.axes._subplots.AxesSubplot at 0x7f0a6720ff90>"
      ]
     },
     "execution_count": 58,
     "metadata": {},
     "output_type": "execute_result"
    },
    {
     "data": {
      "image/png": "[encoded data removed]",
      "text/plain": [
       "<Figure size 1080x720 with 1 Axes>"
      ]
     },
     "metadata": {
      "needs_background": "light"
     },
     "output_type": "display_data"
    }
   ],
   "source": [
    "plt.figure(figsize=(15,10))\n",
    "plt.tight_layout()\n",
    "seabornInstance.distplot(dataset['MaxTemp'])"
   ]
  },
  {
   "cell_type": "code",
   "execution_count": 59,
   "metadata": {},
   "outputs": [],
   "source": [
    "X = dataset['MinTemp'].values.reshape(-1,1)\n",
    "y = dataset['MaxTemp'].values.reshape(-1,1)"
   ]
  },
  {
   "cell_type": "code",
   "execution_count": 72,
   "metadata": {},
   "outputs": [
    {
     "data": {
      "text/plain": [
       "(59520, 1)"
      ]
     },
     "execution_count": 72,
     "metadata": {},
     "output_type": "execute_result"
    }
   ],
   "source": [
    "X_train, X_test, y_train, y_test = train_test_split(X, y, test_size=0.5, random_state=0)\n",
    "X_train.shape"
   ]
  },
  {
   "cell_type": "code",
   "execution_count": 92,
   "metadata": {},
   "outputs": [
    {
     "name": "stderr",
     "output_type": "stream",
     "text": [
      "/usr/local/lib/python3.7/dist-packages/IPython/core/interactiveshell.py:3063: DtypeWarning: Columns (7,8,18,25) have mixed types.Specify dtype option on import or set low_memory=False.\n",
      "  interactivity=interactivity, compiler=compiler, result=result)\n"
     ]
    }
   ],
   "source": [
    "################### Wheather ######################\n",
    "dataset = pd.read_csv('Data/weather.csv')\n",
    "#print(dataset.shape)\n",
    "X = dataset['MinTemp'].values.reshape(-1,1)\n",
    "y = dataset['MaxTemp'].values.reshape(-1,1)\n",
    "X_train, X_test, y_train, y_test = train_test_split(X, y, test_size=0.2, random_state=0)\n",
    "learning_rate = 0.05        # Step size\n",
    "iterations = 500000          # No. of iterations\n",
    "lambda_l = 10\n",
    "\n",
    "row,col=X_train.shape\n",
    "initial_w= np.zeros((col,1))\n"
   ]
  },
  {
   "cell_type": "code",
   "execution_count": 93,
   "metadata": {},
   "outputs": [
    {
     "data": {
      "text/plain": [
       "[<matplotlib.lines.Line2D at 0x7f0a670a8090>]"
      ]
     },
     "execution_count": 93,
     "metadata": {},
     "output_type": "execute_result"
    },
    {
     "data": {
      "image/png": "[encoded data removed]",
      "text/plain": [
       "<Figure size 864x576 with 1 Axes>"
      ]
     },
     "metadata": {
      "needs_background": "light"
     },
     "output_type": "display_data"
    }
   ],
   "source": [
    "# Batch\n",
    "theta , cost_history = gradient_descent_ridge(X_train,y_train,initial_w, learning_rate, lambda_l, iterations)\n",
    "theta3, cost_history3 = gradient_descent_lasso(X_train,y_train,initial_w, learning_rate, 10, iterations)\n",
    "\n",
    "fig,ax = plt.subplots(figsize=(12,8))\n",
    "ax.set_xlabel('Iterations')\n",
    "ax.plot(range(iterations), cost_history ,'b.', label=\"Ridge - Batch\")\n",
    "ax.plot(range(iterations), cost_history3,'c.', label=\"LASSO - Batch\")"
   ]
  },
  {
   "cell_type": "code",
   "execution_count": 94,
   "metadata": {},
   "outputs": [
    {
     "data": {
      "text/plain": [
       "array([[0.08381578]])"
      ]
     },
     "execution_count": 94,
     "metadata": {},
     "output_type": "execute_result"
    }
   ],
   "source": [
    "# w Ridge\n",
    "theta"
   ]
  },
  {
   "cell_type": "code",
   "execution_count": 95,
   "metadata": {},
   "outputs": [
    {
     "data": {
      "text/plain": [
       "array([5.25033077e-06, 5.25032551e-06, 5.25032025e-06, ...,\n",
       "       4.79674356e-06, 4.79674355e-06, 4.79674353e-06])"
      ]
     },
     "execution_count": 95,
     "metadata": {},
     "output_type": "execute_result"
    }
   ],
   "source": [
    "cost_history"
   ]
  },
  {
   "cell_type": "code",
   "execution_count": 96,
   "metadata": {},
   "outputs": [
    {
     "data": {
      "text/plain": [
       "array([[-0.69559824]])"
      ]
     },
     "execution_count": 96,
     "metadata": {},
     "output_type": "execute_result"
    }
   ],
   "source": [
    "# w Lasso\n",
    "theta3"
   ]
  },
  {
   "cell_type": "code",
   "execution_count": 97,
   "metadata": {},
   "outputs": [
    {
     "data": {
      "text/plain": [
       "array([5.00000522, 4.99999994, 4.99999466, ..., 3.32792248, 3.32792055,\n",
       "       3.32791862])"
      ]
     },
     "execution_count": 97,
     "metadata": {},
     "output_type": "execute_result"
    }
   ],
   "source": [
    "cost_history3"
   ]
  },
  {
   "cell_type": "code",
   "execution_count": 98,
   "metadata": {},
   "outputs": [
    {
     "data": {
      "image/png": "[encoded data removed]",
      "text/plain": [
       "<Figure size 864x576 with 1 Axes>"
      ]
     },
     "metadata": {
      "needs_background": "light"
     },
     "output_type": "display_data"
    }
   ],
   "source": [
    "# Nesterov\n",
    "theta1, cost_history1 = nesterov_gradient_descent_ridge(X_train,y_train,initial_w, learning_rate, lambda_l, iterations)\n",
    "#theta2, cost_history2 = min_batch_SGD_ridge(X_train,y_train,initial_w, learning_rate, lambda_l, iterations, 2048)\n",
    "\n",
    "theta4, cost_history4 = nesterov_gradient_descent_lasso(X_train,y_train,initial_w, learning_rate, lambda_l, iterations)\n",
    "#theta5, cost_history5 = min_batch_SGD_lasso(X_train,y_train,initial_w, learning_rate, lambda_l, iterations, 2048)\n",
    "\n",
    "fig,ax = plt.subplots(figsize=(12,8))\n",
    "ax.set_xlabel('Iterations')\n",
    "ax.plot(range(iterations), cost_history1,'r.',label=\"Ridge- Nesterov\")\n",
    "ax.plot(range(iterations), cost_history4,'m.',label=\"LASSO- Nesterov\")\n",
    "plt.show()"
   ]
  },
  {
   "cell_type": "code",
   "execution_count": 99,
   "metadata": {},
   "outputs": [
    {
     "data": {
      "text/plain": [
       "array([[0.08848465]])"
      ]
     },
     "execution_count": 99,
     "metadata": {},
     "output_type": "execute_result"
    }
   ],
   "source": [
    "# w Ridge\n",
    "theta1"
   ]
  },
  {
   "cell_type": "code",
   "execution_count": 100,
   "metadata": {},
   "outputs": [
    {
     "data": {
      "text/plain": [
       "array([5.25033077e-06, 5.25032403e-06, 5.25031649e-06, ...,\n",
       "       4.79533604e-06, 4.79533604e-06, 4.79533604e-06])"
      ]
     },
     "execution_count": 100,
     "metadata": {},
     "output_type": "execute_result"
    }
   ],
   "source": [
    "cost_history1"
   ]
  },
  {
   "cell_type": "code",
   "execution_count": 101,
   "metadata": {},
   "outputs": [
    {
     "data": {
      "text/plain": [
       "array([[-0.99196064]])"
      ]
     },
     "execution_count": 101,
     "metadata": {},
     "output_type": "execute_result"
    }
   ],
   "source": [
    "# w Lasso\n",
    "theta4"
   ]
  },
  {
   "cell_type": "code",
   "execution_count": 102,
   "metadata": {},
   "outputs": [
    {
     "data": {
      "text/plain": [
       "array([5.00000522, 4.99999845, 4.99999088, ..., 2.70529411, 2.70529258,\n",
       "       2.70529105])"
      ]
     },
     "execution_count": 102,
     "metadata": {},
     "output_type": "execute_result"
    }
   ],
   "source": [
    "cost_history4"
   ]
  },
  {
   "cell_type": "code",
   "execution_count": 103,
   "metadata": {},
   "outputs": [
    {
     "data": {
      "image/png": "[encoded data removed]",
      "text/plain": [
       "<Figure size 864x576 with 1 Axes>"
      ]
     },
     "metadata": {
      "needs_background": "light"
     },
     "output_type": "display_data"
    }
   ],
   "source": [
    "# Min Batch\n",
    "theta2, cost_history2 = min_batch_SGD_ridge(X_train,y_train,initial_w, learning_rate, lambda_l, iterations, 2048)\n",
    "\n",
    "theta5, cost_history5 = min_batch_SGD_lasso(X_train,y_train,initial_w, learning_rate, lambda_l, iterations, 2048)\n",
    "\n",
    "fig,ax = plt.subplots(figsize=(12,8))\n",
    "ax.set_xlabel('Iterations')\n",
    "ax.plot(range(iterations), cost_history2,'g.',label=\"Ridge- Mini Batch\")\n",
    "ax.plot(range(iterations), cost_history5,'y.',label=\"LASSO- Mini Batch\")\n",
    "plt.show()"
   ]
  },
  {
   "cell_type": "code",
   "execution_count": 104,
   "metadata": {},
   "outputs": [
    {
     "data": {
      "text/plain": [
       "array([[0.0020514]])"
      ]
     },
     "execution_count": 104,
     "metadata": {},
     "output_type": "execute_result"
    }
   ],
   "source": [
    "# Ridge\n",
    "theta2"
   ]
  },
  {
   "cell_type": "code",
   "execution_count": 107,
   "metadata": {},
   "outputs": [
    {
     "data": {
      "text/plain": [
       "array([5.25052312e-06, 5.25160728e-06, 5.24969713e-06, ...,\n",
       "       5.24038929e-06, 5.23957568e-06, 5.23975961e-06])"
      ]
     },
     "execution_count": 107,
     "metadata": {},
     "output_type": "execute_result"
    }
   ],
   "source": [
    "cost_history2"
   ]
  },
  {
   "cell_type": "code",
   "execution_count": 105,
   "metadata": {},
   "outputs": [
    {
     "data": {
      "text/plain": [
       "array([[-4.45140869]])"
      ]
     },
     "execution_count": 105,
     "metadata": {},
     "output_type": "execute_result"
    }
   ],
   "source": [
    "# Lasso\n",
    "theta5"
   ]
  },
  {
   "cell_type": "code",
   "execution_count": 106,
   "metadata": {},
   "outputs": [
    {
     "data": {
      "text/plain": [
       "array([1.24708067, 0.34317822, 0.22638308, ..., 0.11576914, 0.11576709,\n",
       "       0.11576759])"
      ]
     },
     "execution_count": 106,
     "metadata": {},
     "output_type": "execute_result"
    }
   ],
   "source": [
    "cost_history5"
   ]
  },
  {
   "cell_type": "code",
   "execution_count": 108,
   "metadata": {},
   "outputs": [
    {
     "data": {
      "image/png": "[encoded data removed]",
      "text/plain": [
       "<Figure size 864x576 with 1 Axes>"
      ]
     },
     "metadata": {
      "needs_background": "light"
     },
     "output_type": "display_data"
    }
   ],
   "source": [
    "# All\n",
    "fig,ax = plt.subplots(figsize=(12,8))\n",
    "#ax.set_ylabel('J(Theta)')\n",
    "ax.set_xlabel('Iterations')\n",
    "\n",
    "ax.plot(range(iterations), cost_history ,'b.')\n",
    "ax.plot(range(iterations), cost_history3,'c.')\n",
    "ax.plot(range(iterations), cost_history1,'r.',label=\"Ridge- Nesterov\")\n",
    "ax.plot(range(iterations), cost_history4,'m.',label=\"LASSO- Nesterov\")\n",
    "ax.plot(range(iterations), cost_history2,'g.',label=\"Ridge- Mini Batch\")\n",
    "ax.plot(range(iterations), cost_history5,'y.',label=\"LASSO- Mini Batch\")\n",
    "#ax.plot(range(iterations), cost_history2,'g.')\n",
    "plt.show()"
   ]
  },
  {
   "cell_type": "code",
   "execution_count": 109,
   "metadata": {},
   "outputs": [
    {
     "data": {
      "image/png": "[encoded data removed]",
      "text/plain": [
       "<Figure size 864x576 with 1 Axes>"
      ]
     },
     "metadata": {
      "needs_background": "light"
     },
     "output_type": "display_data"
    }
   ],
   "source": [
    "#Lasso\n",
    "fig,ax = plt.subplots(figsize=(12,8))\n",
    "#ax.set_ylabel('J(Theta)')\n",
    "ax.set_xlabel('Iterations')\n",
    "\n",
    "#ax.plot(range(iterations), cost_history ,'b.',label=\"Ridge- Batch\")\n",
    "ax.plot(range(iterations), cost_history3,'c.',label=\"LASSO- Batch\")\n",
    "#ax.plot(range(iterations), cost_history1,'r.',label=\"Ridge- Nesterov\")\n",
    "ax.plot(range(iterations), cost_history4,'m.',label=\"LASSO- Nesterov\")\n",
    "#ax.plot(range(iterations), cost_history2,'g.',label=\"Ridge- Mini Batch\")\n",
    "ax.plot(range(iterations), cost_history5,'y.',label=\"LASSO- Mini Batch\")\n",
    "#ax.plot(range(iterations), cost_history2,'g.')\n",
    "plt.show()"
   ]
  },
  {
   "cell_type": "code",
   "execution_count": 110,
   "metadata": {},
   "outputs": [
    {
     "data": {
      "image/png": "[encoded data removed]",
      "text/plain": [
       "<Figure size 864x576 with 1 Axes>"
      ]
     },
     "metadata": {
      "needs_background": "light"
     },
     "output_type": "display_data"
    }
   ],
   "source": [
    "# Ridge\n",
    "fig,ax = plt.subplots(figsize=(12,8))\n",
    "#ax.set_ylabel('J(Theta)')\n",
    "ax.set_xlabel('Iterations')\n",
    "\n",
    "ax.plot(range(iterations), cost_history ,'b.',label=\"Ridge- Batch\")\n",
    "#ax.plot(range(iterations), cost_history3,'c.',label=\"LASSO- Batch\")\n",
    "ax.plot(range(iterations), cost_history1,'r.',label=\"Ridge- Nesterov\")\n",
    "#ax.plot(range(iterations), cost_history4,'m.',label=\"LASSO- Nesterov\")\n",
    "ax.plot(range(iterations), cost_history2,'g.',label=\"Ridge- Mini Batch\")\n",
    "#ax.plot(range(iterations), cost_history5,'y.',label=\"LASSO- Mini Batch\")\n",
    "#ax.plot(range(iterations), cost_history2,'g.')\n",
    "plt.show()"
   ]
  },
  {
   "cell_type": "code",
   "execution_count": null,
   "metadata": {},
   "outputs": [],
   "source": []
  }
 ],
 "metadata": {
  "kernelspec": {
   "display_name": "Python 3",
   "language": "python",
   "name": "python3"
  },
  "language_info": {
   "codemirror_mode": {
    "name": "ipython",
    "version": 3
   },
   "file_extension": ".py",
   "mimetype": "text/x-python",
   "name": "python",
   "nbconvert_exporter": "python",
   "pygments_lexer": "ipython3",
   "version": "3.7.5"
  }
 },
 "nbformat": 4,
 "nbformat_minor": 4
}
